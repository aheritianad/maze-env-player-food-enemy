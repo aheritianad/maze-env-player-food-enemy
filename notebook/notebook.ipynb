{
 "cells": [
  {
   "cell_type": "code",
   "execution_count": 6,
   "metadata": {},
   "outputs": [
    {
     "name": "stdout",
     "output_type": "stream",
     "text": [
      "Overwriting ../modules/environment.py\n"
     ]
    }
   ],
   "source": [
    "%%writefile ../modules/environment.py\n",
    "import numpy as np\n",
    "from typing import *\n",
    "\n",
    "\n",
    "class Environment:\n",
    "    def __init__(self, env_size: int, n_enemy: int = 1) -> None:\n",
    "        self.env_size = env_size\n",
    "        self.n_enemy = n_enemy\n",
    "        self.reset()\n",
    "\n",
    "    def reset(self):\n",
    "        self.food = np.random.randint(self.env_size, size=2)\n",
    "        self.enemies = [np.random.randint(\n",
    "            self.env_size, size=2) for _ in range(self.n_enemy)]\n",
    "        while True:\n",
    "            self.player = np.random.randint(\n",
    "                self.env_size, size=2)  # need to fix\n",
    "            self.get_reward_and_done()  # update self._done\n",
    "            if not self._done:  # self._done == False\n",
    "                break\n",
    "\n",
    "        return self.state\n",
    "\n",
    "    @property\n",
    "    def state(self):\n",
    "        def make_string(xy): return str(xy[0])+\"_\"+str(xy[1])\n",
    "        order_enem = sorted([tuple(coordinate) for coordinate in self.enemies])\n",
    "        return \"-\".join(\n",
    "            list(\n",
    "                map(\n",
    "                    make_string,\n",
    "                    [self.player, self.food, *order_enem]\n",
    "                )\n",
    "            )\n",
    "        )\n",
    "\n",
    "    def render(self):\n",
    "        grid = np.zeros((self.env_size, self.env_size), dtype=int)\n",
    "        # 1 : player\n",
    "        # 2 : food\n",
    "        # 3 : enemy\n",
    "        p = tuple(self.player)\n",
    "        f = tuple(self.food)\n",
    "        grid[p] = 1\n",
    "        grid[f] = 2\n",
    "        if f == p:\n",
    "            grid[f] = 5\n",
    "        for enemy in self.enemies:\n",
    "            e = tuple(enemy)\n",
    "            if e == f and f == p:\n",
    "                grid[e] = 7\n",
    "            elif e == f:\n",
    "                grid[e] = 4\n",
    "            elif e == p:\n",
    "                grid[e] = 6\n",
    "            else:\n",
    "                grid[e] = 3\n",
    "\n",
    "        return grid\n",
    "\n",
    "    def __repr__(self):\n",
    "        grid = self.render()\n",
    "        repr = {0: \" \", 1: \"P\", 2: \"F\", 3: \"E\", 4: \"?\", 5: \"@\", 6: \"X\", 7: \"#\"}\n",
    "        result = \" \" + \"-\"*self.env_size + \"\\n\"\n",
    "        for row in grid:\n",
    "            row_string = \"|\"\n",
    "            for col in row:\n",
    "                row_string += repr[col]\n",
    "            row_string += \"|\\n\"\n",
    "            result += row_string\n",
    "        result += \" \" + \"-\"*self.env_size\n",
    "        return result\n",
    "\n",
    "    @property\n",
    "    def done(self):\n",
    "        return self._done\n",
    "\n",
    "    def step(self, palyer_direction):\n",
    "        # move player\n",
    "        self.move(\"player\", palyer_direction)\n",
    "\n",
    "        # always move enemies randomly\n",
    "        for i in range(self.n_enemy):\n",
    "            enemy_direction = np.random.randint(1, 5)\n",
    "            self.move(f\"enemy{i}\", enemy_direction)\n",
    "\n",
    "        # get reward after a step\n",
    "        reward, done = self.get_reward_and_done()\n",
    "        next_state = self.state\n",
    "        return reward, next_state, done\n",
    "\n",
    "    def move(self, entity_name, direction):\n",
    "        if entity_name == \"player\":\n",
    "            entity = self.player\n",
    "        elif \"enemy\" in entity_name:\n",
    "            e_index = int(entity_name[5:])\n",
    "            entity = self.enemies[e_index]\n",
    "        else:\n",
    "            raise ValueError(f\"Invalid entity_name {entity_name}\")\n",
    "\n",
    "        if direction == 0:  # do not move\n",
    "            pass\n",
    "        elif direction == 1:  # left\n",
    "            # not allowed to go out of the wall\n",
    "            entity[1] = max(0, entity[1] - 1)\n",
    "        elif direction == 2:  # right\n",
    "            # not allowed to go out of the wall\n",
    "            entity[1] = min(self.env_size - 1, entity[1] + 1)\n",
    "        elif direction == 3:  # up\n",
    "            # not allowed to go out of the wall\n",
    "            entity[0] = max(0, entity[0] - 1)\n",
    "        elif direction == 4:  # down\n",
    "            # not allowed to go out of the wall\n",
    "            entity[0] = min(self.env_size - 1, entity[0] + 1)\n",
    "\n",
    "    def get_reward_and_done(self):\n",
    "        reward = 0\n",
    "        done = False\n",
    "        if np.all(self.player == self.food):\n",
    "            reward += 1\n",
    "            done = True\n",
    "        for enemy in self.enemies:\n",
    "            if np.all(self.player == enemy):\n",
    "                reward -= 1\n",
    "                done = True\n",
    "        self._done = done\n",
    "        return reward, done\n"
   ]
  },
  {
   "cell_type": "code",
   "execution_count": 2,
   "metadata": {},
   "outputs": [
    {
     "name": "stdout",
     "output_type": "stream",
     "text": [
      "Overwriting ../modules/utils.py\n"
     ]
    }
   ],
   "source": [
    "%%writefile ../modules/utils.py\n",
    "import numpy as np\n",
    "import json\n",
    "\n",
    "\n",
    "def save_to_json(data, path):\n",
    "    with open(path, \"w\") as json_file:\n",
    "        dumped = {state: qvalue.tolist() for state, qvalue in data.items()}\n",
    "        json.dump(dumped, json_file, indent=3)\n",
    "\n",
    "\n",
    "def read_from_json(path):\n",
    "    with open(path, \"r\") as json_file:\n",
    "        content = json.load(json_file)\n",
    "    data = {state: np.array(qvalue) for state, qvalue in content.items()}\n",
    "    return data\n"
   ]
  },
  {
   "cell_type": "code",
   "execution_count": 3,
   "metadata": {},
   "outputs": [
    {
     "name": "stdout",
     "output_type": "stream",
     "text": [
      "Overwriting ../modules/agent.py\n"
     ]
    }
   ],
   "source": [
    "%%writefile ../modules/agent.py\n",
    "from modules.utils import save_to_json, read_from_json\n",
    "import numpy as np\n",
    "\n",
    "\n",
    "class QAgent:\n",
    "    def __init__(self, num_actions, gamma, learning_rate, epsilon, qfunction=None) -> None:\n",
    "        self.n_actions = num_actions\n",
    "        self.qfunction = {} if qfunction is None else qfunction if isinstance(\n",
    "            qfunction, dict) else read_from_json(qfunction)\n",
    "        self.gamma = gamma\n",
    "        self.alpha = learning_rate\n",
    "        self.epsilon = epsilon\n",
    "\n",
    "    def act(self, state, eval=False):\n",
    "        if state not in self.qfunction:\n",
    "            self.qfunction[state] = np.zeros(self.n_actions)\n",
    "        u = np.random.uniform()\n",
    "        if eval or self.epsilon < u:\n",
    "            action = np.argmax(self.qfunction[state])\n",
    "        else:\n",
    "            action = np.random.randint(self.n_actions)\n",
    "        return action\n",
    "\n",
    "    def update(self, state, action, reward, next_state, done):\n",
    "        if state not in self.qfunction:\n",
    "            self.qfunction[state] = np.zeros(self.n_actions)\n",
    "\n",
    "        if done:\n",
    "            self.qfunction[state][action] = (\n",
    "                1 - self.alpha)*self.qfunction[state][action] + self.alpha*reward\n",
    "        else:\n",
    "            if next_state not in self.qfunction:\n",
    "                self.qfunction[next_state] = np.zeros(self.n_actions)\n",
    "            self.qfunction[state][action] = (1 - self.alpha)*self.qfunction[state][action] + \\\n",
    "                self.alpha*(reward + self.gamma *\n",
    "                            self.qfunction[next_state].max())\n",
    "\n",
    "    def save_qfunction(self, path=\"./qfunction.json\"):\n",
    "        save_to_json(self.qfunction, path)\n",
    "\n",
    "    def load_qfunction(self, path=\"./qfunction.json\"):\n",
    "        self.qfunction = read_from_json(path)\n"
   ]
  },
  {
   "cell_type": "code",
   "execution_count": 4,
   "metadata": {},
   "outputs": [
    {
     "name": "stdout",
     "output_type": "stream",
     "text": [
      "Overwriting ../modules/train.py\n"
     ]
    }
   ],
   "source": [
    "%%writefile ../modules/train.py\n",
    "from modules.environment import Environment\n",
    "from modules.agent import QAgent\n",
    "import numpy as np\n",
    "import matplotlib.pyplot as plt\n",
    "from tqdm import tqdm\n",
    "\n",
    "\n",
    "def run_episode(env: Environment, agent: QAgent, max_step: int, eval: bool, show=False):\n",
    "    state = env.reset()\n",
    "    actions_name = {0: \"halt\", 1: \"left\", 2: \"right\", 3: \"up\", 4: \"down\"}\n",
    "    n_step = 1\n",
    "    if show:\n",
    "        print(\n",
    "            \"Symbols meaning [P: Player/Agent, E: enemy, F: food/goal, ?: E+F, @: P+F, X: P+E, #: P+E+F]\")\n",
    "        print(\"New Environment :\")\n",
    "        print(env)\n",
    "    while True:\n",
    "        action = agent.act(state, eval)\n",
    "        reward, next_state, done = env.step(action)\n",
    "        if show:\n",
    "            print(\n",
    "                f\"action : {actions_name[action]} is taken at step: {n_step}\\n\")\n",
    "            print(env)\n",
    "        if not eval:\n",
    "            agent.update(state, action, reward, next_state, done)\n",
    "        state = next_state\n",
    "        n_step += 1\n",
    "        if done or n_step > max_step:\n",
    "            break\n",
    "\n",
    "    return reward\n",
    "\n",
    "\n",
    "def train(environment: Environment, agent: QAgent, num_episode: int, max_step: int = 1000):\n",
    "    rewards = []\n",
    "    episodes = []\n",
    "    eval_every = 10\n",
    "    n_eval = 5\n",
    "    try:\n",
    "        for ep in tqdm(range(1, num_episode+1)):\n",
    "            run_episode(environment, agent, max_step, eval=False, show=False)\n",
    "            if ep % 10 == 0:\n",
    "                episodes.append(ep)\n",
    "                mean_reward = np.mean([run_episode(\n",
    "                    environment, agent, max_step, eval=True, show=False) for _ in range(n_eval)])\n",
    "                rewards.append(mean_reward)\n",
    "    except KeyboardInterrupt:\n",
    "        print(f\"Training interrupted at {ep} episodes.\")\n",
    "        input(\"Press enter to continue ...\")\n",
    "\n",
    "    return episodes, rewards\n",
    "\n",
    "\n",
    "def plot_rewards(episodes, rewards):\n",
    "    plt.figure(figsize=(10, 5))\n",
    "    plt.title(\"Average reward during training.\")\n",
    "    plt.plot(episodes, rewards, \"g:\", label=\"average reward\")\n",
    "    plt.xlabel(\"episode\")\n",
    "    plt.ylabel(\"reward\")\n",
    "    plt.legend()\n",
    "    plt.show()\n"
   ]
  },
  {
   "cell_type": "code",
   "execution_count": 5,
   "metadata": {},
   "outputs": [
    {
     "name": "stdout",
     "output_type": "stream",
     "text": [
      "Overwriting ../generate-qfunction.py\n"
     ]
    }
   ],
   "source": [
    "%%writefile ../generate-qfunction.py\n",
    "#!/usr/bin/env python3\n",
    "\n",
    "from modules.environment import Environment\n",
    "from modules.agent import QAgent\n",
    "from modules.train import train, plot_rewards, run_episode\n",
    "\n",
    "from argparse import ArgumentParser\n",
    "\n",
    "parser = ArgumentParser(\n",
    "    description=\"Generate a qvalue function in a json file.\")\n",
    "\n",
    "parser.add_argument(\"-n\", \"--env-size\", type=int,\n",
    "                    help=\"size of the environment\")\n",
    "parser.add_argument(\"-en\", \"--n-enem\", type=int,\n",
    "                    help=\"number of enemy in the evironment\")\n",
    "parser.add_argument(\"-g\", \"--gamma\", type=float,\n",
    "                    help=\"discount factor (horizon-size)\")\n",
    "parser.add_argument(\"-lr\", \"--learning-rate\", type=float,\n",
    "                    help=\"learning rate/alpha (exploitation)\")\n",
    "parser.add_argument(\"-eps\", \"--epsilon\", type=float,\n",
    "                    help=\"probability to act non-greedy (exploration)\")\n",
    "parser.add_argument(\"-epi\", \"--n-episode\", type=int,\n",
    "                    help=\"number of episodes for training\")\n",
    "parser.add_argument(\"-max\", \"--max-step\", type=int,\n",
    "                    help=\"maximum number of steps for each episode\")\n",
    "parser.add_argument(\"-l\", \"--path-to-load-qfunction\", type=str,\n",
    "                    help=\"path for the json file of qvalue function to load\")\n",
    "parser.add_argument(\"-s\", \"--path-to-save-qfunction\", type=str,\n",
    "                    help=\"path for the json file of qvalue function to save\")\n",
    "parser.add_argument(\"-show\", \"--show\", type=bool,\n",
    "                    help=\"flag either user want to show the reward during training\")\n",
    "\n",
    "\n",
    "args = vars(parser.parse_args())\n",
    "\n",
    "env_size = args[\"env_size\"]\n",
    "n_enem = args.get(\"n_enem\",1)\n",
    "num_actions = 5\n",
    "gamma = args[\"gamma\"]\n",
    "learning_rate = args[\"learning_rate\"]\n",
    "epsilon = args[\"epsilon\"]\n",
    "n_episode = args[\"n_episode\"]\n",
    "max_step = args[\"max_step\"]\n",
    "path_load_qfunction = args.get(\"path_to_load_qfunction\", None)\n",
    "path_save_qfunction = args.get(\n",
    "    \"path_to_save_qfunction\", None)\n",
    "show_plot = args.get(\"show\", False)\n",
    "\n",
    "\n",
    "env = Environment(env_size=env_size, n_enemy=n_enem)\n",
    "agent = QAgent(num_actions=num_actions, gamma=gamma,\n",
    "               learning_rate=learning_rate, epsilon=epsilon, qfunction=path_load_qfunction)\n",
    "print(\"Start trainining...\")\n",
    "episodes, rewards = train(environment=env, agent=agent,\n",
    "                          num_episode=n_episode, max_step=max_step)\n",
    "print(\"Training done successfully.\")\n",
    "if path_save_qfunction is not None:\n",
    "    agent.save_qfunction(path_save_qfunction)\n",
    "if show_plot:\n",
    "    plot_rewards(episodes, rewards)\n"
   ]
  },
  {
   "cell_type": "code",
   "execution_count": 7,
   "metadata": {},
   "outputs": [],
   "source": [
    "import sys, os\n",
    "sys.path.append(os.path.abspath(\"..\"))"
   ]
  },
  {
   "cell_type": "code",
   "execution_count": 8,
   "metadata": {},
   "outputs": [],
   "source": [
    "from modules.environment import Environment\n",
    "from modules.agent import QAgent\n",
    "from modules.train import train, plot_rewards, run_episode"
   ]
  },
  {
   "cell_type": "code",
   "execution_count": 10,
   "metadata": {},
   "outputs": [],
   "source": [
    "env_size = 5\n",
    "n_enem = 3\n",
    "num_actions = 5\n",
    "gamma = 0.999\n",
    "learning_rate = 0.01\n",
    "epsilon = 1\n",
    "n_episode = 1000000\n",
    "max_step = 1000\n",
    "path_save_qfunction = f\"../qfunction/qfunction-size{env_size}_enem{n_enem}.json\"\n",
    "path_load_qfunction = path_save_qfunction\n",
    "show_plot = True"
   ]
  },
  {
   "cell_type": "code",
   "execution_count": 11,
   "metadata": {},
   "outputs": [
    {
     "name": "stdout",
     "output_type": "stream",
     "text": [
      "Start trainining...\n"
     ]
    },
    {
     "name": "stderr",
     "output_type": "stream",
     "text": [
      "100%|██████████| 1000000/1000000 [06:36<00:00, 2524.51it/s]\n"
     ]
    },
    {
     "name": "stdout",
     "output_type": "stream",
     "text": [
      "Training done successfully.\n"
     ]
    },
    {
     "data": {
      "image/png": "[encoded data removed]",
      "text/plain": [
       "<Figure size 720x360 with 1 Axes>"
      ]
     },
     "metadata": {
      "needs_background": "light"
     },
     "output_type": "display_data"
    }
   ],
   "source": [
    "env = Environment(env_size=env_size, n_enemy=n_enem)\n",
    "agent = QAgent(num_actions=num_actions, gamma=gamma,\n",
    "               learning_rate=learning_rate, epsilon=epsilon, qfunction=path_load_qfunction)\n",
    "\n",
    "print(\"Start trainining...\")\n",
    "episodes, rewards = train(environment=env, agent=agent,\n",
    "                          num_episode=n_episode, max_step=max_step)\n",
    "print(\"Training done successfully.\")\n",
    "\n",
    "agent.save_qfunction(path_save_qfunction)\n",
    "if show_plot:\n",
    "    plot_rewards(episodes, rewards)\n"
   ]
  },
  {
   "cell_type": "code",
   "execution_count": 12,
   "metadata": {},
   "outputs": [],
   "source": [
    "env = Environment(env_size=env_size, n_enemy=n_enem)\n",
    "agent = QAgent(num_actions=num_actions, gamma=gamma,\n",
    "               learning_rate=learning_rate, epsilon=epsilon, qfunction=path_save_qfunction)\n"
   ]
  },
  {
   "cell_type": "code",
   "execution_count": 14,
   "metadata": {},
   "outputs": [
    {
     "name": "stdout",
     "output_type": "stream",
     "text": [
      "Symbols meaning [P: Player/Agent, E: enemy, F: food/goal, ?: E+F, @: P+F, X: P+E, #: P+E+F]\n",
      "New Environment :\n",
      " -----\n",
      "| E E |\n",
      "| F E |\n",
      "|     |\n",
      "|    P|\n",
      "|     |\n",
      " -----\n",
      "action : left is taken at step: 1\n",
      "\n",
      " -----\n",
      "|  EE |\n",
      "| F   |\n",
      "|     |\n",
      "|   P |\n",
      "|     |\n",
      " -----\n",
      "action : up is taken at step: 2\n",
      "\n",
      " -----\n",
      "|   E |\n",
      "| F E |\n",
      "|   P |\n",
      "|     |\n",
      "|     |\n",
      " -----\n",
      "action : left is taken at step: 3\n",
      "\n",
      " -----\n",
      "|   E |\n",
      "| FE E|\n",
      "|  P  |\n",
      "|     |\n",
      "|     |\n",
      " -----\n",
      "action : left is taken at step: 4\n",
      "\n",
      " -----\n",
      "|     |\n",
      "| F E |\n",
      "| P   |\n",
      "|     |\n",
      "|     |\n",
      " -----\n",
      "action : up is taken at step: 5\n",
      "\n",
      " -----\n",
      "|   E |\n",
      "| @  E|\n",
      "|   E |\n",
      "|     |\n",
      "|     |\n",
      " -----\n",
      "Final reward : 1\n"
     ]
    }
   ],
   "source": [
    "reward = run_episode(env,agent, max_step, eval=True, show=True)\n",
    "print(f\"Final reward : {reward}\")"
   ]
  },
  {
   "cell_type": "code",
   "execution_count": null,
   "metadata": {},
   "outputs": [],
   "source": []
  }
 ],
 "metadata": {
  "kernelspec": {
   "display_name": "Python 3.10.7 64-bit",
   "language": "python",
   "name": "python3"
  },
  "language_info": {
   "codemirror_mode": {
    "name": "ipython",
    "version": 3
   },
   "file_extension": ".py",
   "mimetype": "text/x-python",
   "name": "python",
   "nbconvert_exporter": "python",
   "pygments_lexer": "ipython3",
   "version": "3.10.7"
  },
  "orig_nbformat": 4,
  "vscode": {
   "interpreter": {
    "hash": "6ecdebf77f2ee3a47348d003f751c63e810ca996c1c68d1179f338200fa83b34"
   }
  }
 },
 "nbformat": 4,
 "nbformat_minor": 2
}
